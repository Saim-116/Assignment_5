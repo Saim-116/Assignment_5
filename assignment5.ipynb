{
 "cells": [
  {
   "cell_type": "code",
   "execution_count": null,
   "id": "aa27c305-11c4-487e-974c-31e265aa343e",
   "metadata": {},
   "outputs": [],
   "source": [
    "# 1. You need to store and manage employee records where each record includes an\n",
    "# employee's ID, name, and department. (Use tuples to represent each employee record)."
   ]
  },
  {
   "cell_type": "code",
   "execution_count": 5,
   "id": "de9014af-5f50-4cea-b91d-26b9937bf52f",
   "metadata": {},
   "outputs": [
    {
     "name": "stdout",
     "output_type": "stream",
     "text": [
      "ID: 1, Name: Moiz, Department: HR\n",
      "ID: 2, Name: Rafay, Department: Engineering\n",
      "ID: 3, Name: Saim, Department: Marketing\n"
     ]
    }
   ],
   "source": [
    "employees = [\n",
    "    (1, \"saim\", \"HR\"),\n",
    "    (2, \"ali\", \"Engineering\"),\n",
    "    (3, \"ahmed\", \"Marketing\")\n",
    "]\n",
    "for employee in employees:\n",
    "    print(f\"ID: {employee[0]}, Name: {employee[1]}, Department: {employee[2]}\")"
   ]
  },
  {
   "cell_type": "code",
   "execution_count": null,
   "id": "49be328f-08a9-48fe-8239-d30f8859934d",
   "metadata": {},
   "outputs": [],
   "source": [
    "# 2. You are managing an inventory system where each item has an item ID, description,\n",
    "# and quantity available. (Use tuples to represent each inventory item)."
   ]
  },
  {
   "cell_type": "code",
   "execution_count": 9,
   "id": "472de91f-da86-40f6-aa45-cefd959c388d",
   "metadata": {},
   "outputs": [
    {
     "name": "stdout",
     "output_type": "stream",
     "text": [
      "Item ID: 101, Description: watch, Quantity Available: 10\n",
      "Item ID: 102, Description: hat, Quantity Available: 25\n",
      "Item ID: 103, Description: helmet, Quantity Available: 15\n"
     ]
    }
   ],
   "source": [
    "inventory = [\n",
    "    (101, \"watch\", 10),\n",
    "    (102, \"hat\", 25),\n",
    "    (103, \"helmet\", 15)\n",
    "]\n",
    "for item in inventory:\n",
    "    print(f\"Item ID: {item[0]}, Description: {item[1]}, Quantity Available: {item[2]}\")"
   ]
  },
  {
   "cell_type": "code",
   "execution_count": null,
   "id": "2d03c32f-fb04-45c2-83d2-725d64ebc98a",
   "metadata": {},
   "outputs": [],
   "source": [
    "# 3. You need to store the dates and times of scheduled events, like meetings or\n",
    "# appointments. (Use tuples to store date and time information)."
   ]
  },
  {
   "cell_type": "code",
   "execution_count": 13,
   "id": "25b9ef97-a6d0-4ef6-8c0a-a9c33e34c50c",
   "metadata": {},
   "outputs": [
    {
     "name": "stdout",
     "output_type": "stream",
     "text": [
      "Event Date: 2024-11-1, Event Time: 3pm\n",
      "Event Date: 2024-12-2, Event Time: 11am\n",
      "Event Date: 2024-10-3, Event Time: 10pm\n"
     ]
    }
   ],
   "source": [
    "events = [\n",
    "    (\"2024-11-1\", \"3pm\"),\n",
    "    (\"2024-12-2\", \"11am\"),\n",
    "    (\"2024-10-3\", \"10pm\")\n",
    "]\n",
    "for event in events:\n",
    "    print(f\"Event Date: {event[0]}, Event Time: {event[1]}\")"
   ]
  },
  {
   "cell_type": "code",
   "execution_count": null,
   "id": "6561da2f-6f15-42e2-8a07-de4d6d024f86",
   "metadata": {},
   "outputs": [],
   "source": [
    "# 4. Store a company's employee details, organized by department. (Use dictionary in\n",
    "# dictionary)."
   ]
  },
  {
   "cell_type": "code",
   "execution_count": 15,
   "id": "34f00c85-c600-46f8-a32a-3a1cc6d961eb",
   "metadata": {},
   "outputs": [
    {
     "name": "stdout",
     "output_type": "stream",
     "text": [
      "Department: HR\n",
      "  ID: 1, Name: Mohib\n",
      "  ID: 4, Name: Moin\n",
      "Department: Engineering\n",
      "  ID: 2, Name: Bilal\n",
      "  ID: 5, Name: Raza\n",
      "Department: Marketing\n",
      "  ID: 3, Name: Osama\n"
     ]
    }
   ],
   "source": [
    "company = {\n",
    "    \"HR\": {\n",
    "        1: \"Mohib\",\n",
    "        4: \"Moin\"\n",
    "    },\n",
    "    \"Engineering\": {\n",
    "        2: \"Bilal\",\n",
    "        5: \"Raza\"\n",
    "    },\n",
    "    \"Marketing\": {\n",
    "        3: \"Osama\"\n",
    "    }\n",
    "}\n",
    "for department, employees in company.items():\n",
    "    print(f\"Department: {department}\")\n",
    "    for emp_id, name in employees.items():\n",
    "        print(f\"  ID: {emp_id}, Name: {name}\")"
   ]
  },
  {
   "cell_type": "code",
   "execution_count": null,
   "id": "3f71ba31-d4a0-4e92-ab76-826c3aa8a2dd",
   "metadata": {},
   "outputs": [],
   "source": [
    "# 5. Keep track of student scores in various subjects and retrieve a student's scores. (Use\n",
    "# dictionary in List)."
   ]
  },
  {
   "cell_type": "code",
   "execution_count": 17,
   "id": "71e8847a-b639-4b8c-8fc3-ffd5ab18d9dd",
   "metadata": {},
   "outputs": [
    {
     "name": "stdout",
     "output_type": "stream",
     "text": [
      "Student: saim\n",
      "  Subject: math, Score: 60\n",
      "  Subject: science, Score: 55\n",
      "  Subject: english, Score: 38\n",
      "Student: abc\n",
      "  Subject: math, Score: 50\n",
      "  Subject: science, Score: 80\n",
      "  Subject: english, Score: 76\n",
      "Student: xyz\n",
      "  Subject: math, Score: 70\n",
      "  Subject: science, Score: 80\n",
      "  Subject: english, Score: 92\n"
     ]
    }
   ],
   "source": [
    "students = [\n",
    "    {\"name\": \"saim\", \"scores\": {\"math\": 60, \"science\": 55, \"english\": 38}},\n",
    "    {\"name\": \"abc\", \"scores\": {\"math\": 50, \"science\": 80, \"english\": 76}},\n",
    "    {\"name\": \"xyz\", \"scores\": {\"math\": 70, \"science\": 80, \"english\": 92}}\n",
    "]\n",
    "\n",
    "for student in students:\n",
    "    print(f\"Student: {student['name']}\")\n",
    "    for subject, score in student[\"scores\"].items():\n",
    "        print(f\"  Subject: {subject}, Score: {score}\")"
   ]
  },
  {
   "cell_type": "code",
   "execution_count": null,
   "id": "f4f64917-1755-4b50-9238-46610b7d0391",
   "metadata": {},
   "outputs": [],
   "source": [
    "# 6. Track various projects and their associated tasks, and retrieve tasks for a specific\n",
    "# project. (Use List in Dictionary)."
   ]
  },
  {
   "cell_type": "code",
   "execution_count": 21,
   "id": "93faddbe-8671-403f-8ea4-5348b3311782",
   "metadata": {},
   "outputs": [
    {
     "name": "stdout",
     "output_type": "stream",
     "text": [
      "Tasks for Project 2:\n",
      "Task A\n",
      "Task B\n",
      "Task C\n"
     ]
    }
   ],
   "source": [
    "projects = {\n",
    "    \"Project 1\": [\"Task 1\", \"Task 2\", \"Task 3\"],\n",
    "    \"Project 2\": [\"Task A\", \"Task B\", \"Task C\"]\n",
    "}\n",
    "\n",
    "# Retrieve tasks for a specific project\n",
    "project_name = \"Project 2\"\n",
    "print(f\"Tasks for {project_name}:\")\n",
    "for task in projects[project_name]:\n",
    "    print(f\"{task}\")"
   ]
  },
  {
   "cell_type": "code",
   "execution_count": null,
   "id": "23120192-8820-4093-9506-472eba40c0b1",
   "metadata": {},
   "outputs": [],
   "source": [
    "# 7. Manage courses and their contents in a training program and retrieve details of a\n",
    "# specific module. (dictionary in dictionary)"
   ]
  },
  {
   "cell_type": "code",
   "execution_count": 25,
   "id": "ed6406bf-1d9b-4615-aedf-5c7a2fa4f172",
   "metadata": {},
   "outputs": [
    {
     "name": "stdout",
     "output_type": "stream",
     "text": [
      "Course 2 - Module B: Intermediate Concepts\n"
     ]
    }
   ],
   "source": [
    "training_program = {\n",
    "    \"Course 1\": {\n",
    "        \"Module 1\": \"Introduction\",\n",
    "        \"Module 2\": \"Basics\",\n",
    "        \"Module 3\": \"Advanced Topics\"\n",
    "    },\n",
    "    \"Course 2\": {\n",
    "        \"Module A\": \"Getting Started\",\n",
    "        \"Module B\": \"Intermediate Concepts\",\n",
    "        \"Module C\": \"Expert Techniques\"\n",
    "    }\n",
    "}\n",
    "course_name = \"Course 2\"\n",
    "module_name = \"Module B\"\n",
    "print(f\"{course_name} - {module_name}: {training_program[course_name][module_name]}\")"
   ]
  },
  {
   "cell_type": "code",
   "execution_count": null,
   "id": "5c9f3be8-42b4-4f38-aa9d-07c9f36d3f29",
   "metadata": {},
   "outputs": [],
   "source": [
    "# 8.You have a list where each element is a tuple containing a product's name and its\n",
    "# price. You need to find products that are below a certain price threshold. (Use unpacking\n",
    "# lists of tuples)"
   ]
  },
  {
   "cell_type": "code",
   "execution_count": 27,
   "id": "52c0b45d-3b96-419c-83aa-39f60934406d",
   "metadata": {},
   "outputs": [
    {
     "name": "stdout",
     "output_type": "stream",
     "text": [
      "Products below the threshold:\n",
      "  Mouse\n",
      "  Keyboard\n"
     ]
    }
   ],
   "source": [
    "products = [\n",
    "    (\"Laptop\", 1200),\n",
    "    (\"Mouse\", 25),\n",
    "    (\"Keyboard\", 45),\n",
    "    (\"Monitor\", 300)\n",
    "]\n",
    "threshold = 100\n",
    "below_threshold = [product for product, price in products if price < threshold]\n",
    "print(\"Products below the threshold:\")\n",
    "for product in below_threshold:\n",
    "    print(f\"  {product}\")"
   ]
  },
  {
   "cell_type": "code",
   "execution_count": null,
   "id": "51dadeaf-6249-4675-b62c-239c449eebaa",
   "metadata": {},
   "outputs": [],
   "source": []
  }
 ],
 "metadata": {
  "kernelspec": {
   "display_name": "Python 3 (ipykernel)",
   "language": "python",
   "name": "python3"
  },
  "language_info": {
   "codemirror_mode": {
    "name": "ipython",
    "version": 3
   },
   "file_extension": ".py",
   "mimetype": "text/x-python",
   "name": "python",
   "nbconvert_exporter": "python",
   "pygments_lexer": "ipython3",
   "version": "3.12.4"
  }
 },
 "nbformat": 4,
 "nbformat_minor": 5
}
